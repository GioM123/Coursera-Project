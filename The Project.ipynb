{
    "cells": [
        {
            "metadata": {
                "collapsed": true
            },
            "cell_type": "markdown",
            "source": "This notebook will be used to perform the tasks necessary to complete the capstone project for Coursera's IBM Data Science certificate. "
        },
        {
            "metadata": {},
            "cell_type": "code",
            "source": "import pandas as pd\nimport numpy as np",
            "execution_count": 3,
            "outputs": []
        },
        {
            "metadata": {},
            "cell_type": "markdown",
            "source": "Hello Capstone Project Course! "
        },
        {
            "metadata": {},
            "cell_type": "markdown",
            "source": "* Introduction/Business Problem\n\nThe dataset used for this project involves vehicle collision data from 2004 to present day. The data was collected in the Seattle area, and does not only involve vehicle collisions. Collision data includes incidents with pedestrians, bikers, animals, objects, and accidental carbon monoxide poisoning. Along with the kind of incident, the data includes the conditions in which the accidents occurred (weather, location, location relative to intersections/driveways). This data is important because it can be used to predict, and prevent vehicle collision. This data could identify high collision areas, or weather/time of day that increases the chance of collisions occurring.  "
        }
    ],
    "metadata": {
        "kernelspec": {
            "name": "python3",
            "display_name": "Python 3.6",
            "language": "python"
        },
        "language_info": {
            "name": "python",
            "version": "3.6.9",
            "mimetype": "text/x-python",
            "codemirror_mode": {
                "name": "ipython",
                "version": 3
            },
            "pygments_lexer": "ipython3",
            "nbconvert_exporter": "python",
            "file_extension": ".py"
        }
    },
    "nbformat": 4,
    "nbformat_minor": 1
}